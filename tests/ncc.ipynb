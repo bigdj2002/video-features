{
 "cells": [
  {
   "cell_type": "code",
   "execution_count": null,
   "id": "24bd8d45",
   "metadata": {},
   "outputs": [],
   "source": [
    "import numpy as np\n",
    "import matplotlib.pyplot as plt\n",
    "from pathlib import Path\n",
    "from skimage.io import imread\n",
    "from skimage.color import rgb2gray\n",
    "from skimage.util import img_as_ubyte"
   ]
  },
  {
   "cell_type": "code",
   "execution_count": null,
   "id": "931dd6a4",
   "metadata": {},
   "outputs": [],
   "source": [
    "BLOCK_SIZE = 32"
   ]
  },
  {
   "cell_type": "code",
   "execution_count": null,
   "id": "67586494",
   "metadata": {},
   "outputs": [],
   "source": [
    "def compute_ncc(a, b):\n",
    "    a_mean = np.mean(a)\n",
    "    b_mean = np.mean(b)\n",
    "    a_dev = a - a_mean\n",
    "    b_dev = b - b_mean\n",
    "    numerator = np.sum(a_dev * b_dev)\n",
    "    denominator = np.sqrt(np.sum(a_dev ** 2)) * np.sqrt(np.sum(b_dev ** 2))\n",
    "    return numerator / (denominator + 1e-6)\n",
    "\n",
    "def extract_ncc_features(ref_frame, tar_frame, block_size=32, search_range=1, step_size=1):\n",
    "    h, w = ref_frame.shape\n",
    "    features = []\n",
    "\n",
    "    if block_size == 0:\n",
    "        ncc_score = compute_ncc(ref_frame.flatten(), tar_frame.flatten())\n",
    "        features.append({'block_y': 0, 'block_x': 0, 'ncc': ncc_score})\n",
    "        return np.array([[ncc_score]])\n",
    "\n",
    "    for y in range(0, h - block_size + 1, block_size):\n",
    "        for x in range(0, w - block_size + 1, block_size):\n",
    "            ref_patch = ref_frame[y:y+block_size, x:x+block_size].flatten()\n",
    "\n",
    "            max_ncc = -1.0\n",
    "            for dy in range(-search_range, search_range + 1, step_size):\n",
    "                for dx in range(-search_range, search_range + 1, step_size):\n",
    "                    ty = y + dy\n",
    "                    tx = x + dx\n",
    "                    ty = max(0, min(ty + block_size, h) - block_size)\n",
    "                    tx = max(0, min(tx + block_size, w) - block_size)\n",
    "                    tar_patch = tar_frame[ty:ty+block_size, tx:tx+block_size].flatten()\n",
    "                    ncc_score = compute_ncc(ref_patch, tar_patch)\n",
    "                    max_ncc = max(max_ncc, ncc_score)\n",
    "\n",
    "            print(f\"NCC at block (y={y}, x={x}) = {max_ncc:.4f}\")\n",
    "            features.append(max_ncc)\n",
    "\n",
    "    return np.array(features).reshape(h // block_size, w // block_size)"
   ]
  },
  {
   "cell_type": "code",
   "execution_count": null,
   "id": "c8447151",
   "metadata": {},
   "outputs": [],
   "source": [
    "frame_dir = Path(\"dataset/DAVIS/curling\")\n",
    "frame_paths = sorted(frame_dir.glob(\"*.jpg\"))\n",
    "gray_frames = []\n",
    "\n",
    "for path in frame_paths:\n",
    "    image = imread(path)\n",
    "    gray = rgb2gray(image) if image.ndim == 3 else image\n",
    "    gray = img_as_ubyte(gray)\n",
    "    gray_frames.append(gray)\n",
    "\n",
    "ref_frame, tar_frame = gray_frames[0], gray_frames[1]\n",
    "ncc_map = extract_ncc_features(ref_frame, tar_frame, BLOCK_SIZE)\n",
    "\n",
    "plt.figure(figsize=(6, 5))\n",
    "plt.imshow(ncc_map, cmap='hot', interpolation='nearest')\n",
    "plt.title(f\"NCC Heatmap (block_size={BLOCK_SIZE})\")\n",
    "plt.colorbar()\n",
    "plt.axis(\"off\")\n",
    "plt.tight_layout()\n",
    "plt.show()"
   ]
  }
 ],
 "metadata": {
  "kernelspec": {
   "display_name": "Python 3",
   "language": "python",
   "name": "python3"
  },
  "language_info": {
   "codemirror_mode": {
    "name": "ipython",
    "version": 3
   },
   "file_extension": ".py",
   "mimetype": "text/x-python",
   "name": "python",
   "nbconvert_exporter": "python",
   "pygments_lexer": "ipython3",
   "version": "3.11.11"
  }
 },
 "nbformat": 4,
 "nbformat_minor": 5
}
