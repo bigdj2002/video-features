{
 "cells": [
  {
   "cell_type": "code",
   "execution_count": null,
   "id": "2653c415",
   "metadata": {},
   "outputs": [],
   "source": [
    "import numpy as np\n",
    "import matplotlib.pyplot as plt\n",
    "import cv2\n",
    "from pathlib import Path\n",
    "from skimage.io import imread\n",
    "from skimage.color import rgb2gray\n",
    "from skimage.util import img_as_ubyte"
   ]
  },
  {
   "cell_type": "code",
   "execution_count": null,
   "id": "448238f7",
   "metadata": {},
   "outputs": [],
   "source": [
    "BLOCK_SIZE = 32"
   ]
  },
  {
   "cell_type": "code",
   "execution_count": null,
   "id": "7536d4d5",
   "metadata": {},
   "outputs": [],
   "source": [
    "def compute_flow_magnitude(flow_block):\n",
    "    dx = flow_block[..., 0]\n",
    "    dy = flow_block[..., 1]\n",
    "    mag = np.sqrt(dx**2 + dy**2)\n",
    "    return np.mean(mag)\n",
    "\n",
    "def extract_of_features(ref_frame, tar_frame, block_size=32):\n",
    "    h, w = ref_frame.shape\n",
    "    features = []\n",
    "\n",
    "    flow = cv2.calcOpticalFlowFarneback(\n",
    "        prev=ref_frame, next=tar_frame,\n",
    "        flow=None, pyr_scale=0.5, levels=3, winsize=15,\n",
    "        iterations=3, poly_n=5, poly_sigma=1.2, flags=0\n",
    "    )\n",
    "\n",
    "    if block_size == 0:\n",
    "        avg_mag = compute_flow_magnitude(flow)\n",
    "        features.append({'block_y': 0, 'block_x': 0, 'of': avg_mag})\n",
    "        return np.array([[avg_mag]])\n",
    "\n",
    "    for y in range(0, h - block_size + 1, block_size):\n",
    "        for x in range(0, w - block_size + 1, block_size):\n",
    "            flow_block = flow[y:y+block_size, x:x+block_size, :]\n",
    "            mag = compute_flow_magnitude(flow_block)\n",
    "            print(f\"OF magnitude at block (y={y}, x={x}) = {mag:.4f}\")\n",
    "            features.append(mag)\n",
    "\n",
    "    return np.array(features).reshape(h // block_size, w // block_size)"
   ]
  },
  {
   "cell_type": "code",
   "execution_count": null,
   "id": "37a4afe9",
   "metadata": {},
   "outputs": [],
   "source": [
    "frame_dir = Path(\"dataset/DAVIS/curling\")\n",
    "frame_paths = sorted(frame_dir.glob(\"*.jpg\"))\n",
    "\n",
    "gray_frames = []\n",
    "for path in frame_paths:\n",
    "    image = imread(path)\n",
    "    gray = rgb2gray(image) if image.ndim == 3 else image\n",
    "    gray = img_as_ubyte(gray)\n",
    "    gray_frames.append(gray)\n",
    "\n",
    "ref_frame, tar_frame = gray_frames[0], gray_frames[5]\n",
    "of_map = extract_of_features(ref_frame, tar_frame, block_size=BLOCK_SIZE)\n",
    "\n",
    "plt.figure(figsize=(6, 5))\n",
    "plt.imshow(of_map, cmap='hot', interpolation='nearest')\n",
    "plt.title(f\"OF Magnitude Heatmap (block_size={BLOCK_SIZE})\")\n",
    "plt.colorbar()\n",
    "plt.axis(\"off\")\n",
    "plt.tight_layout()\n",
    "plt.show()"
   ]
  }
 ],
 "metadata": {
  "kernelspec": {
   "display_name": "Python 3",
   "language": "python",
   "name": "python3"
  },
  "language_info": {
   "codemirror_mode": {
    "name": "ipython",
    "version": 3
   },
   "file_extension": ".py",
   "mimetype": "text/x-python",
   "name": "python",
   "nbconvert_exporter": "python",
   "pygments_lexer": "ipython3",
   "version": "3.11.11"
  }
 },
 "nbformat": 4,
 "nbformat_minor": 5
}
