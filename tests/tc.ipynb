{
 "cells": [
  {
   "cell_type": "code",
   "execution_count": null,
   "id": "5d674ac5",
   "metadata": {},
   "outputs": [],
   "source": [
    "import numpy as np\n",
    "import matplotlib.pyplot as plt\n",
    "from pathlib import Path\n",
    "from skimage.io import imread\n",
    "from skimage.color import rgb2gray\n",
    "from skimage.util import img_as_ubyte\n",
    "from scipy.signal import coherence\n",
    "import warnings"
   ]
  },
  {
   "cell_type": "code",
   "execution_count": null,
   "id": "d6caf20f",
   "metadata": {},
   "outputs": [],
   "source": [
    "BLOCK_SIZE = 32"
   ]
  },
  {
   "cell_type": "code",
   "execution_count": null,
   "id": "8d2cd090",
   "metadata": {},
   "outputs": [],
   "source": [
    "def compute_tc(a, b, fs=1.0, nperseg=256):\n",
    "    with warnings.catch_warnings():\n",
    "        warnings.filterwarnings('ignore', category=RuntimeWarning)\n",
    "        f, Cxy = coherence(a, b, fs=fs, nperseg=nperseg)\n",
    "    Cxy = Cxy[~np.isnan(Cxy) & ~np.isinf(Cxy)]\n",
    "    return np.mean(Cxy).item() if len(Cxy) > 0 else 0.0\n",
    "\n",
    "def extract_tc_features(ref_frame, tar_frame, block_size=32, fs=1.0, nperseg=256):\n",
    "    h, w = ref_frame.shape\n",
    "    features = []\n",
    "\n",
    "    if block_size == 0:\n",
    "        tc_score = compute_tc(ref_frame.flatten(), tar_frame.flatten(), fs=fs, nperseg=nperseg)\n",
    "        features.append({'block_y': 0, 'block_x': 0, 'tc': tc_score})\n",
    "        return np.array([[tc_score]])\n",
    "\n",
    "    for y in range(0, h - block_size + 1, block_size):\n",
    "        for x in range(0, w - block_size + 1, block_size):\n",
    "            ref_patch = ref_frame[y:y+block_size, x:x+block_size].flatten()\n",
    "            tar_patch = tar_frame[y:y+block_size, x:x+block_size].flatten()\n",
    "            tc_score = compute_tc(ref_patch, tar_patch, fs=fs, nperseg=nperseg)\n",
    "\n",
    "            print(f\"TC at block (y={y}, x={x}) = {tc_score:.4f}\")\n",
    "            features.append(tc_score)\n",
    "\n",
    "    return np.array(features).reshape(h // block_size, w // block_size)"
   ]
  },
  {
   "cell_type": "code",
   "execution_count": null,
   "id": "7f2a81e9",
   "metadata": {},
   "outputs": [],
   "source": [
    "frame_dir = Path(\"dataset/DAVIS/curling\")\n",
    "frame_paths = sorted(frame_dir.glob(\"*.jpg\"))\n",
    "gray_frames = []\n",
    "\n",
    "for path in frame_paths:\n",
    "    image = imread(path)\n",
    "    gray = rgb2gray(image) if image.ndim == 3 else image\n",
    "    gray = img_as_ubyte(gray)\n",
    "    gray_frames.append(gray)\n",
    "\n",
    "ref_frame, tar_frame = gray_frames[0], gray_frames[1]\n",
    "tc_map = extract_tc_features(ref_frame, tar_frame, block_size=BLOCK_SIZE)\n",
    "\n",
    "plt.figure(figsize=(6, 5))\n",
    "plt.imshow(tc_map, cmap='hot', interpolation='nearest')\n",
    "plt.title(f\"TC Heatmap (block_size={BLOCK_SIZE})\")\n",
    "plt.colorbar()\n",
    "plt.axis(\"off\")\n",
    "plt.tight_layout()\n",
    "plt.show()"
   ]
  }
 ],
 "metadata": {
  "kernelspec": {
   "display_name": "Python 3",
   "language": "python",
   "name": "python3"
  },
  "language_info": {
   "codemirror_mode": {
    "name": "ipython",
    "version": 3
   },
   "file_extension": ".py",
   "mimetype": "text/x-python",
   "name": "python",
   "nbconvert_exporter": "python",
   "pygments_lexer": "ipython3",
   "version": "3.11.11"
  }
 },
 "nbformat": 4,
 "nbformat_minor": 5
}
